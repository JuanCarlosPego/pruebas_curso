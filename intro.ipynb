{
  "nbformat": 4,
  "nbformat_minor": 0,
  "metadata": {
    "colab": {
      "name": "intro.ipynb",
      "provenance": [],
      "collapsed_sections": [],
      "authorship_tag": "ABX9TyOxNT0CLmoLXD/IMdFLD8d5",
      "include_colab_link": true
    },
    "kernelspec": {
      "name": "python3",
      "display_name": "Python 3"
    },
    "language_info": {
      "name": "python"
    }
  },
  "cells": [
    {
      "cell_type": "markdown",
      "metadata": {
        "id": "view-in-github",
        "colab_type": "text"
      },
      "source": [
        "<a href=\"https://colab.research.google.com/github/JuanCarlosPego/pruebas_curso/blob/master/intro.ipynb\" target=\"_parent\"><img src=\"https://colab.research.google.com/assets/colab-badge.svg\" alt=\"Open In Colab\"/></a>"
      ]
    },
    {
      "cell_type": "code",
      "metadata": {
        "colab": {
          "base_uri": "https://localhost:8080/",
          "height": 35
        },
        "id": "WSBbtw_5oGOn",
        "outputId": "474da439-8213-4ba2-b26d-4b57be624ccc"
      },
      "source": [
        "import numpy as np\n",
        "np.__version__"
      ],
      "execution_count": 1,
      "outputs": [
        {
          "output_type": "execute_result",
          "data": {
            "application/vnd.google.colaboratory.intrinsic+json": {
              "type": "string"
            },
            "text/plain": [
              "'1.19.5'"
            ]
          },
          "metadata": {
            "tags": []
          },
          "execution_count": 1
        }
      ]
    },
    {
      "cell_type": "code",
      "metadata": {
        "id": "AymRaXE9pzqo"
      },
      "source": [
        "np.random.rand?"
      ],
      "execution_count": 2,
      "outputs": []
    },
    {
      "cell_type": "code",
      "metadata": {
        "colab": {
          "base_uri": "https://localhost:8080/"
        },
        "id": "6u19A5Oqp6JT",
        "outputId": "68dbfdde-9fce-4042-a64a-770cbae60c21"
      },
      "source": [
        "np.random.rand"
      ],
      "execution_count": 3,
      "outputs": [
        {
          "output_type": "execute_result",
          "data": {
            "text/plain": [
              "<function RandomState.rand>"
            ]
          },
          "metadata": {
            "tags": []
          },
          "execution_count": 3
        }
      ]
    },
    {
      "cell_type": "code",
      "metadata": {
        "colab": {
          "base_uri": "https://localhost:8080/"
        },
        "id": "1ixpnZA3qG47",
        "outputId": "167be4db-138e-403f-a619-49b6b0e1a7f4"
      },
      "source": [
        "## Version de Python instalada\n",
        "import sys\n",
        "print(sys.version.split()[0])"
      ],
      "execution_count": 7,
      "outputs": [
        {
          "output_type": "stream",
          "text": [
            "3.7.11\n"
          ],
          "name": "stdout"
        }
      ]
    },
    {
      "cell_type": "code",
      "metadata": {
        "id": "zo2DqiRdtgMx"
      },
      "source": [
        "dir(sys)"
      ],
      "execution_count": null,
      "outputs": []
    },
    {
      "cell_type": "code",
      "metadata": {
        "id": "t9gdZNJ6uVm_"
      },
      "source": [
        "sys.implementation?"
      ],
      "execution_count": 9,
      "outputs": []
    },
    {
      "cell_type": "code",
      "metadata": {
        "colab": {
          "base_uri": "https://localhost:8080/"
        },
        "id": "NQvugAT8uh_x",
        "outputId": "b429073b-e23c-4dd7-9032-52c085d8ac5f"
      },
      "source": [
        "print(sys.implementation)"
      ],
      "execution_count": 10,
      "outputs": [
        {
          "output_type": "stream",
          "text": [
            "namespace(_multiarch='x86_64-linux-gnu', cache_tag='cpython-37', hexversion=50793456, name='cpython', version=sys.version_info(major=3, minor=7, micro=11, releaselevel='final', serial=0))\n"
          ],
          "name": "stdout"
        }
      ]
    },
    {
      "cell_type": "code",
      "metadata": {
        "colab": {
          "base_uri": "https://localhost:8080/"
        },
        "id": "Dh2OjkjEuoTF",
        "outputId": "0af2b3fb-f190-4b3c-b421-8cb532eb35a0"
      },
      "source": [
        "# Imprimo de forma asc y desc los metodos y funciones del paquete \"datetime\"\n",
        "import datetime\n",
        "#Ascendente\n",
        "print(\" **  Ascendente  **  \")\n",
        "for r in sorted(datetime.__dict__):\n",
        "  print(r)\n",
        "\n",
        "#Descendente\n",
        "print(\"   \")\n",
        "print(\" **  Descendente  **  \")\n",
        "for r in sorted(datetime.__dict__,reverse=True):\n",
        "  print(r)"
      ],
      "execution_count": 25,
      "outputs": [
        {
          "output_type": "stream",
          "text": [
            " **  Ascendente  **  \n",
            "MAXYEAR\n",
            "MINYEAR\n",
            "__builtins__\n",
            "__cached__\n",
            "__doc__\n",
            "__file__\n",
            "__loader__\n",
            "__name__\n",
            "__package__\n",
            "__spec__\n",
            "date\n",
            "datetime\n",
            "datetime_CAPI\n",
            "sys\n",
            "time\n",
            "timedelta\n",
            "timezone\n",
            "tzinfo\n",
            "   \n",
            " **  Descendente  **  \n",
            "tzinfo\n",
            "timezone\n",
            "timedelta\n",
            "time\n",
            "sys\n",
            "datetime_CAPI\n",
            "datetime\n",
            "date\n",
            "__spec__\n",
            "__package__\n",
            "__name__\n",
            "__loader__\n",
            "__file__\n",
            "__doc__\n",
            "__cached__\n",
            "__builtins__\n",
            "MINYEAR\n",
            "MAXYEAR\n"
          ],
          "name": "stdout"
        }
      ]
    },
    {
      "cell_type": "code",
      "metadata": {
        "colab": {
          "base_uri": "https://localhost:8080/"
        },
        "id": "zwtxEX3zvmRm",
        "outputId": "184d6eb7-e746-47ad-ea53-86e50c9b63a9"
      },
      "source": [
        "dir(datetime)"
      ],
      "execution_count": 18,
      "outputs": [
        {
          "output_type": "execute_result",
          "data": {
            "text/plain": [
              "['MAXYEAR',\n",
              " 'MINYEAR',\n",
              " '__builtins__',\n",
              " '__cached__',\n",
              " '__doc__',\n",
              " '__file__',\n",
              " '__loader__',\n",
              " '__name__',\n",
              " '__package__',\n",
              " '__spec__',\n",
              " 'date',\n",
              " 'datetime',\n",
              " 'datetime_CAPI',\n",
              " 'sys',\n",
              " 'time',\n",
              " 'timedelta',\n",
              " 'timezone',\n",
              " 'tzinfo']"
            ]
          },
          "metadata": {
            "tags": []
          },
          "execution_count": 18
        }
      ]
    },
    {
      "cell_type": "code",
      "metadata": {
        "id": "FWzl8SxDwDpj"
      },
      "source": [
        ""
      ],
      "execution_count": null,
      "outputs": []
    }
  ]
}