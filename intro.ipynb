{
  "nbformat": 4,
  "nbformat_minor": 0,
  "metadata": {
    "colab": {
      "name": "intro.ipynb",
      "provenance": [],
      "collapsed_sections": [],
      "authorship_tag": "ABX9TyMKuXhbqTKNGQDI8a3CnEPx",
      "include_colab_link": true
    },
    "kernelspec": {
      "name": "python3",
      "display_name": "Python 3"
    },
    "language_info": {
      "name": "python"
    }
  },
  "cells": [
    {
      "cell_type": "markdown",
      "metadata": {
        "id": "view-in-github",
        "colab_type": "text"
      },
      "source": [
        "<a href=\"https://colab.research.google.com/github/JuanCarlosPego/pruebas_curso/blob/master/intro.ipynb\" target=\"_parent\"><img src=\"https://colab.research.google.com/assets/colab-badge.svg\" alt=\"Open In Colab\"/></a>"
      ]
    },
    {
      "cell_type": "code",
      "metadata": {
        "colab": {
          "base_uri": "https://localhost:8080/",
          "height": 35
        },
        "id": "WSBbtw_5oGOn",
        "outputId": "474da439-8213-4ba2-b26d-4b57be624ccc"
      },
      "source": [
        "import numpy as np\n",
        "np.__version__"
      ],
      "execution_count": 1,
      "outputs": [
        {
          "output_type": "execute_result",
          "data": {
            "application/vnd.google.colaboratory.intrinsic+json": {
              "type": "string"
            },
            "text/plain": [
              "'1.19.5'"
            ]
          },
          "metadata": {
            "tags": []
          },
          "execution_count": 1
        }
      ]
    },
    {
      "cell_type": "code",
      "metadata": {
        "id": "AymRaXE9pzqo"
      },
      "source": [
        "np.random.rand?"
      ],
      "execution_count": 2,
      "outputs": []
    },
    {
      "cell_type": "code",
      "metadata": {
        "colab": {
          "base_uri": "https://localhost:8080/"
        },
        "id": "6u19A5Oqp6JT",
        "outputId": "68dbfdde-9fce-4042-a64a-770cbae60c21"
      },
      "source": [
        "np.random.rand"
      ],
      "execution_count": 3,
      "outputs": [
        {
          "output_type": "execute_result",
          "data": {
            "text/plain": [
              "<function RandomState.rand>"
            ]
          },
          "metadata": {
            "tags": []
          },
          "execution_count": 3
        }
      ]
    },
    {
      "cell_type": "code",
      "metadata": {
        "colab": {
          "base_uri": "https://localhost:8080/"
        },
        "id": "1ixpnZA3qG47",
        "outputId": "167be4db-138e-403f-a619-49b6b0e1a7f4"
      },
      "source": [
        "## Version de Python instalada\n",
        "import sys\n",
        "print(sys.version.split()[0])"
      ],
      "execution_count": 7,
      "outputs": [
        {
          "output_type": "stream",
          "text": [
            "3.7.11\n"
          ],
          "name": "stdout"
        }
      ]
    },
    {
      "cell_type": "code",
      "metadata": {
        "id": "zo2DqiRdtgMx"
      },
      "source": [
        "dir(sys)"
      ],
      "execution_count": null,
      "outputs": []
    },
    {
      "cell_type": "code",
      "metadata": {
        "id": "t9gdZNJ6uVm_"
      },
      "source": [
        "sys.implementation?"
      ],
      "execution_count": 9,
      "outputs": []
    },
    {
      "cell_type": "code",
      "metadata": {
        "colab": {
          "base_uri": "https://localhost:8080/"
        },
        "id": "NQvugAT8uh_x",
        "outputId": "b429073b-e23c-4dd7-9032-52c085d8ac5f"
      },
      "source": [
        "print(sys.implementation)"
      ],
      "execution_count": 10,
      "outputs": [
        {
          "output_type": "stream",
          "text": [
            "namespace(_multiarch='x86_64-linux-gnu', cache_tag='cpython-37', hexversion=50793456, name='cpython', version=sys.version_info(major=3, minor=7, micro=11, releaselevel='final', serial=0))\n"
          ],
          "name": "stdout"
        }
      ]
    },
    {
      "cell_type": "code",
      "metadata": {
        "colab": {
          "base_uri": "https://localhost:8080/"
        },
        "id": "Dh2OjkjEuoTF",
        "outputId": "0af2b3fb-f190-4b3c-b421-8cb532eb35a0"
      },
      "source": [
        "# Imprimo de forma asc y desc los metodos y funciones del paquete \"datetime\"\n",
        "import datetime\n",
        "#Ascendente. Muy parecido a : dir(datetime)\n",
        "print(\" **  Ascendente  **  \")\n",
        "for r in sorted(datetime.__dict__):\n",
        "  print(r)\n",
        "\n",
        "#Descendente\n",
        "print(\"   \")\n",
        "print(\" **  Descendente  **  \")\n",
        "for r in sorted(datetime.__dict__,reverse=True):\n",
        "  print(r)"
      ],
      "execution_count": 25,
      "outputs": [
        {
          "output_type": "stream",
          "text": [
            " **  Ascendente  **  \n",
            "MAXYEAR\n",
            "MINYEAR\n",
            "__builtins__\n",
            "__cached__\n",
            "__doc__\n",
            "__file__\n",
            "__loader__\n",
            "__name__\n",
            "__package__\n",
            "__spec__\n",
            "date\n",
            "datetime\n",
            "datetime_CAPI\n",
            "sys\n",
            "time\n",
            "timedelta\n",
            "timezone\n",
            "tzinfo\n",
            "   \n",
            " **  Descendente  **  \n",
            "tzinfo\n",
            "timezone\n",
            "timedelta\n",
            "time\n",
            "sys\n",
            "datetime_CAPI\n",
            "datetime\n",
            "date\n",
            "__spec__\n",
            "__package__\n",
            "__name__\n",
            "__loader__\n",
            "__file__\n",
            "__doc__\n",
            "__cached__\n",
            "__builtins__\n",
            "MINYEAR\n",
            "MAXYEAR\n"
          ],
          "name": "stdout"
        }
      ]
    },
    {
      "cell_type": "code",
      "metadata": {
        "colab": {
          "base_uri": "https://localhost:8080/"
        },
        "id": "FWzl8SxDwDpj",
        "outputId": "7ed986a0-be6c-482e-ed39-0a09e1f2af29"
      },
      "source": [
        "#La clase de producto se indica a continuación. Muestre el espacio de nombres (valor del atributo __dict__) de esta clase\n",
        "import uuid\n",
        "\n",
        "\n",
        "class Product:\n",
        "\n",
        "    def __init__(self, product_name, price):\n",
        "        self.product_id = self.get_id()\n",
        "        self.product_name = product_name\n",
        "        self.price = price\n",
        "\n",
        "    def __repr__(self):\n",
        "        return f\"Product(product_name='{self.product_name}', price={self.price})\"\n",
        "\n",
        "    @staticmethod\n",
        "    def get_id():\n",
        "        return str(uuid.uuid4().fields[-1])[:6]\n",
        "\n",
        "##SOLUCION\n",
        "for r in Product.__dict__:\n",
        "  print(r)        "
      ],
      "execution_count": 26,
      "outputs": [
        {
          "output_type": "stream",
          "text": [
            "__module__\n",
            "__init__\n",
            "__repr__\n",
            "get_id\n",
            "__dict__\n",
            "__weakref__\n",
            "__doc__\n"
          ],
          "name": "stdout"
        }
      ]
    },
    {
      "cell_type": "code",
      "metadata": {
        "colab": {
          "base_uri": "https://localhost:8080/"
        },
        "id": "xc83O1Jd2gIW",
        "outputId": "61f763c5-e7c6-4870-f01c-9e6245c2f744"
      },
      "source": [
        "## Se especifica la clase de producto. Se creó una instancia de esta clase denominada producto. Muestra el espacio de nombres (valor del atributo __dict__) de esta instancia\n",
        "import uuid\n",
        "\n",
        "\n",
        "class Product1:\n",
        "\n",
        "    def __init__(self, product_name, product_id, price):\n",
        "        self.product_name = product_name\n",
        "        self.product_id = product_id\n",
        "        self.price = price\n",
        "\n",
        "    def __repr__(self):\n",
        "        return f\"Product(product_name='{self.product_name}', price={self.price})\"\n",
        "\n",
        "\n",
        "product1 = Product1('Mobile Phone', '54274', 2900)\n",
        "print(\"Instancia de la clase\\n\")\n",
        "\n",
        "print(product1.__dict__)"
      ],
      "execution_count": 27,
      "outputs": [
        {
          "output_type": "stream",
          "text": [
            "Instancia de la clase\n",
            "\n",
            "{'product_name': 'Mobile Phone', 'product_id': '54274', 'price': 2900}\n"
          ],
          "name": "stdout"
        }
      ]
    },
    {
      "cell_type": "code",
      "metadata": {
        "id": "gtWHtVv_8HoZ"
      },
      "source": [
        ""
      ],
      "execution_count": null,
      "outputs": []
    }
  ]
}